{
 "cells": [
  {
   "cell_type": "code",
   "execution_count": 1,
   "metadata": {},
   "outputs": [
    {
     "name": "stdout",
     "output_type": "stream",
     "text": [
      "Requirement already satisfied: requests in ./.venv/lib/python3.12/site-packages (2.32.3)\n",
      "Requirement already satisfied: charset-normalizer<4,>=2 in ./.venv/lib/python3.12/site-packages (from requests) (3.4.0)\n",
      "Requirement already satisfied: idna<4,>=2.5 in ./.venv/lib/python3.12/site-packages (from requests) (3.10)\n",
      "Requirement already satisfied: urllib3<3,>=1.21.1 in ./.venv/lib/python3.12/site-packages (from requests) (2.2.3)\n",
      "Requirement already satisfied: certifi>=2017.4.17 in ./.venv/lib/python3.12/site-packages (from requests) (2024.8.30)\n",
      "Note: you may need to restart the kernel to use updated packages.\n",
      "Requirement already satisfied: python-dotenv in ./.venv/lib/python3.12/site-packages (1.0.1)\n",
      "Note: you may need to restart the kernel to use updated packages.\n"
     ]
    }
   ],
   "source": [
    "%pip install requests\n",
    "%pip install python-dotenv"
   ]
  },
  {
   "cell_type": "code",
   "execution_count": 2,
   "metadata": {},
   "outputs": [],
   "source": [
    "import requests\n",
    "import os\n",
    "from dotenv import load_dotenv\n",
    "\n",
    "load_dotenv()\n",
    "day_1_input_url = \"https://adventofcode.com/2024/day/1/input\"\n",
    "session_cookie = os.getenv(\"SESSION_COOKIE\")\n",
    "\n",
    "def read_input_url(url, session_cookie):\n",
    "    headers = {\n",
    "        'Cookie': f'session={session_cookie}'\n",
    "    }\n",
    "    response = requests.get(url, headers=headers)\n",
    "    response.raise_for_status()\n",
    "    content = response.text\n",
    "    \n",
    "    left = []\n",
    "    right = []\n",
    "    for line in content.splitlines():\n",
    "        left_num, right_num = line.split(\"   \")\n",
    "        left.append(int(left_num))\n",
    "        right.append(int(right_num))\n",
    "    \n",
    "    return left, right\n",
    "\n",
    "left, right = read_input_url(day_1_input_url, session_cookie)"
   ]
  },
  {
   "cell_type": "code",
   "execution_count": 3,
   "metadata": {},
   "outputs": [
    {
     "data": {
      "text/plain": [
       "29037157"
      ]
     },
     "execution_count": 3,
     "metadata": {},
     "output_type": "execute_result"
    }
   ],
   "source": [
    "\"\"\"Solution to Day 1 Puzzle 1\"\"\"\n",
    "def solution_1_1(left, right):\n",
    "    similarity_score = 0\n",
    "    for i in range(len(left)):\n",
    "        similarity_score += abs(left[i] - right[i])\n",
    "    return similarity_score\n",
    "\n",
    "solution_1_1(left, right)"
   ]
  },
  {
   "cell_type": "code",
   "execution_count": 4,
   "metadata": {},
   "outputs": [
    {
     "data": {
      "text/plain": [
       "19678534"
      ]
     },
     "execution_count": 4,
     "metadata": {},
     "output_type": "execute_result"
    }
   ],
   "source": [
    "\"\"\"Solution to Day 1 Puzzle 2\"\"\"\n",
    "def solution_1_2(left, right):\n",
    "    similarity_score = 0\n",
    "    for i in range(len(left)):\n",
    "        left_num = left[i]\n",
    "        occurences = right.count(left_num)\n",
    "        similarity_score += left_num * occurences if occurences > 0 else 0\n",
    "    return similarity_score\n",
    "\n",
    "solution_1_2(left, right)"
   ]
  }
 ],
 "metadata": {
  "kernelspec": {
   "display_name": ".venv",
   "language": "python",
   "name": "python3"
  },
  "language_info": {
   "codemirror_mode": {
    "name": "ipython",
    "version": 3
   },
   "file_extension": ".py",
   "mimetype": "text/x-python",
   "name": "python",
   "nbconvert_exporter": "python",
   "pygments_lexer": "ipython3",
   "version": "3.12.1"
  }
 },
 "nbformat": 4,
 "nbformat_minor": 2
}
