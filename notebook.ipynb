{
 "cells": [
  {
   "cell_type": "code",
   "execution_count": 3,
   "metadata": {},
   "outputs": [],
   "source": [
    "%%capture --no-display\n",
    "%pip install requests\n",
    "%pip install python-dotenv"
   ]
  },
  {
   "cell_type": "code",
   "execution_count": 4,
   "metadata": {},
   "outputs": [],
   "source": [
    "import requests\n",
    "import os\n",
    "from dotenv import load_dotenv\n",
    "\n",
    "load_dotenv()\n",
    "\n",
    "def read_input_url(url):\n",
    "    headers = {\n",
    "        'Cookie': f'session={os.getenv(\"SESSION_COOKIE\")}'\n",
    "    }\n",
    "    response = requests.get(url, headers=headers)\n",
    "    response.raise_for_status()\n",
    "    return response.text"
   ]
  },
  {
   "cell_type": "code",
   "execution_count": 5,
   "metadata": {},
   "outputs": [],
   "source": [
    "\"\"\"Day 1 input\"\"\"\n",
    "day_1_input_url = \"https://adventofcode.com/2024/day/1/input\"\n",
    "day_3_content = read_input_url(day_1_input_url)\n",
    " \n",
    "left = []\n",
    "right = []\n",
    "for line in day_3_content.splitlines():\n",
    "    left_num, right_num = line.split(\"   \")\n",
    "    left.append(int(left_num))\n",
    "    right.append(int(right_num))"
   ]
  },
  {
   "cell_type": "code",
   "execution_count": 6,
   "metadata": {},
   "outputs": [
    {
     "data": {
      "text/plain": [
       "29037157"
      ]
     },
     "execution_count": 6,
     "metadata": {},
     "output_type": "execute_result"
    }
   ],
   "source": [
    "\"\"\"Solution to Day 1 Puzzle 1\"\"\"\n",
    "def solution_1_1(left, right):\n",
    "    similarity_score = 0\n",
    "    for i in range(len(left)):\n",
    "        similarity_score += abs(left[i] - right[i])\n",
    "    return similarity_score\n",
    "\n",
    "solution_1_1(left, right)"
   ]
  },
  {
   "cell_type": "code",
   "execution_count": 7,
   "metadata": {},
   "outputs": [
    {
     "data": {
      "text/plain": [
       "19678534"
      ]
     },
     "execution_count": 7,
     "metadata": {},
     "output_type": "execute_result"
    }
   ],
   "source": [
    "\"\"\"Solution to Day 1 Puzzle 2\"\"\"\n",
    "def solution_1_2(left, right):\n",
    "    similarity_score = 0\n",
    "    for i in range(len(left)):\n",
    "        left_num = left[i]\n",
    "        occurences = right.count(left_num)\n",
    "        similarity_score += left_num * occurences if occurences > 0 else 0\n",
    "    return similarity_score\n",
    "\n",
    "solution_1_2(left, right)"
   ]
  },
  {
   "cell_type": "code",
   "execution_count": 8,
   "metadata": {},
   "outputs": [],
   "source": [
    "\"\"\"Day 2 input\"\"\"\n",
    "day_2_input_url = \"https://adventofcode.com/2024/day/2/input\"\n",
    "day_3_content = read_input_url(day_2_input_url)\n",
    "\n",
    "# A report is a list of levels seperated by new line\n",
    "# A level is a number, seperasted by space\n",
    "\n",
    "list_of_reports = []\n",
    "for line in day_3_content.splitlines():\n",
    "    report = line.split(\" \")\n",
    "    report = [int(level) for level in report]\n",
    "    list_of_reports.append(report)"
   ]
  },
  {
   "cell_type": "code",
   "execution_count": 9,
   "metadata": {},
   "outputs": [
    {
     "data": {
      "text/plain": [
       "359"
      ]
     },
     "execution_count": 9,
     "metadata": {},
     "output_type": "execute_result"
    }
   ],
   "source": [
    "\"\"\"Soltion to Day 2 Puzzle 1\"\"\"\n",
    "\n",
    "def is_ascending(report):\n",
    "    return all(report[i] <= report[i+1] for i in range(len(report)-1))\n",
    "    \n",
    "def is_descending(report):\n",
    "    return all(report[i] >= report[i+1] for i in range(len(report)-1))\n",
    "    \n",
    "def diff_within(report, min, max):\n",
    "    for i in range(len(report)-1):\n",
    "        diff = abs(report[i] - report[i+1])\n",
    "        if diff < min or diff > max:\n",
    "            return False\n",
    "            \n",
    "    return True\n",
    "\n",
    "def is_safe(report):\n",
    "    if not (is_ascending(report) or is_descending(report)):\n",
    "        return False\n",
    "    return diff_within(report, 1, 3)\n",
    "\n",
    "count_safe_reports = 0\n",
    "for report in list_of_reports:\n",
    "    if is_safe(report):\n",
    "        count_safe_reports += 1\n",
    "\n",
    "count_safe_reports"
   ]
  },
  {
   "cell_type": "code",
   "execution_count": 10,
   "metadata": {},
   "outputs": [
    {
     "data": {
      "text/plain": [
       "418"
      ]
     },
     "execution_count": 10,
     "metadata": {},
     "output_type": "execute_result"
    }
   ],
   "source": [
    "\"\"\"Soltion to Day 2 Puzzle 2\"\"\"\n",
    "\n",
    "def is_safe_with_tolerance_of_one_level_removed(report):\n",
    "    for i in range(len(report)):\n",
    "        new_report = report[:i] + report[i+1:]\n",
    "        if is_safe(new_report):\n",
    "            return True\n",
    "    return False\n",
    "\n",
    "count_safe_reports_with_tolerance_of_one_removed = 0\n",
    "for report in list_of_reports:\n",
    "    if is_safe_with_tolerance_of_one_level_removed(report):\n",
    "        count_safe_reports_with_tolerance_of_one_removed += 1\n",
    "\n",
    "count_safe_reports_with_tolerance_of_one_removed"
   ]
  },
  {
   "cell_type": "code",
   "execution_count": 11,
   "metadata": {},
   "outputs": [],
   "source": [
    "\"\"\"Day 3 input\"\"\"\n",
    "day_3_input_url = \"https://adventofcode.com/2024/day/3/input\"\n",
    "day_3_content = read_input_url(day_3_input_url)"
   ]
  },
  {
   "cell_type": "code",
   "execution_count": 12,
   "metadata": {},
   "outputs": [
    {
     "data": {
      "text/plain": [
       "164730528"
      ]
     },
     "execution_count": 12,
     "metadata": {},
     "output_type": "execute_result"
    }
   ],
   "source": [
    "\"\"\"Solution to Day 3 Puzzle 1\"\"\"\n",
    "\n",
    "import re\n",
    "\n",
    "def parse(content, pattern):\n",
    "    return re.findall(pattern, content)\n",
    "\n",
    "def evaluate(parsed_content):\n",
    "    result = 0\n",
    "    for match in parsed_content:\n",
    "        result += int(match[0]) * int(match[1])\n",
    "    return result\n",
    "\n",
    "def extract_mul_instructions(content, pattern):\n",
    "    parsed_content = parse(content, pattern)\n",
    "    return evaluate(parsed_content)\n",
    "\n",
    "\n",
    "mul_pattern = r\"mul\\((\\d+),(\\d+)\\)\"\n",
    "extract_mul_instructions(day_3_content, mul_pattern)"
   ]
  },
  {
   "cell_type": "code",
   "execution_count": null,
   "metadata": {},
   "outputs": [
    {
     "data": {
      "text/plain": [
       "70478672"
      ]
     },
     "execution_count": 18,
     "metadata": {},
     "output_type": "execute_result"
    }
   ],
   "source": [
    "\"\"\"Solution to Day 3 Puzzle 2\"\"\"\n",
    "\n",
    "def build_pattern():\n",
    "    patterns = {\n",
    "        'do': r'do\\(\\)',\n",
    "        'dont': r'don\\'t\\(\\)',\n",
    "        'mul': r\"mul\\((\\d+),(\\d+)\\)\"\n",
    "    }\n",
    "    \n",
    "    combined = '|'.join(f'(?P<{name}>{pattern})' \n",
    "                       for name, pattern in patterns.items())\n",
    "    \n",
    "    return re.compile(combined)\n",
    "\n",
    "\n",
    "def extract_do_and_dont_mul_instructions(content):\n",
    "    combined_pattern = build_pattern()\n",
    "    pattern = re.compile(combined_pattern)\n",
    "    \n",
    "    enabled = True\n",
    "    result = 0\n",
    "    \n",
    "    for match in pattern.finditer(content):\n",
    "        if match.group('do'):\n",
    "            enabled = True\n",
    "        elif match.group('dont'):\n",
    "            enabled = False\n",
    "        elif match.group('mul') and enabled:\n",
    "            a, b = map(int, match.group('mul')[4:-1].split(','))\n",
    "            result += a * b\n",
    "            \n",
    "    return result\n",
    "        \n",
    "\n",
    "extract_do_and_dont_mul_instructions(day_3_content)"
   ]
  }
 ],
 "metadata": {
  "kernelspec": {
   "display_name": ".venv",
   "language": "python",
   "name": "python3"
  },
  "language_info": {
   "codemirror_mode": {
    "name": "ipython",
    "version": 3
   },
   "file_extension": ".py",
   "mimetype": "text/x-python",
   "name": "python",
   "nbconvert_exporter": "python",
   "pygments_lexer": "ipython3",
   "version": "3.12.1"
  }
 },
 "nbformat": 4,
 "nbformat_minor": 2
}
