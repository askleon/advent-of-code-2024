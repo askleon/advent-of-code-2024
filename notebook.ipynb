{
 "cells": [
  {
   "cell_type": "code",
   "execution_count": 98,
   "metadata": {},
   "outputs": [],
   "source": [
    "%%capture --no-display\n",
    "%pip install requests\n",
    "%pip install python-dotenv\n",
    "%pip install numpy"
   ]
  },
  {
   "cell_type": "code",
   "execution_count": 99,
   "metadata": {},
   "outputs": [],
   "source": [
    "import requests\n",
    "import os\n",
    "from dotenv import load_dotenv\n",
    "\n",
    "load_dotenv()\n",
    "\n",
    "def read_input_url(url):\n",
    "    headers = {\n",
    "        'Cookie': f'session={os.getenv(\"SESSION_COOKIE\")}'\n",
    "    }\n",
    "    response = requests.get(url, headers=headers)\n",
    "    response.raise_for_status()\n",
    "    return response.text"
   ]
  },
  {
   "cell_type": "code",
   "execution_count": 100,
   "metadata": {},
   "outputs": [],
   "source": [
    "\"\"\"Day 1 input\"\"\"\n",
    "day_1_input_url = \"https://adventofcode.com/2024/day/1/input\"\n",
    "day_3_content = read_input_url(day_1_input_url)\n",
    " \n",
    "left = []\n",
    "right = []\n",
    "for line in day_3_content.splitlines():\n",
    "    left_num, right_num = line.split(\"   \")\n",
    "    left.append(int(left_num))\n",
    "    right.append(int(right_num))"
   ]
  },
  {
   "cell_type": "code",
   "execution_count": 101,
   "metadata": {},
   "outputs": [
    {
     "data": {
      "text/plain": [
       "29037157"
      ]
     },
     "execution_count": 101,
     "metadata": {},
     "output_type": "execute_result"
    }
   ],
   "source": [
    "\"\"\"Solution to Day 1 Puzzle 1\"\"\"\n",
    "def solution_1_1(left, right):\n",
    "    similarity_score = 0\n",
    "    for i in range(len(left)):\n",
    "        similarity_score += abs(left[i] - right[i])\n",
    "    return similarity_score\n",
    "\n",
    "solution_1_1(left, right)"
   ]
  },
  {
   "cell_type": "code",
   "execution_count": 102,
   "metadata": {},
   "outputs": [
    {
     "data": {
      "text/plain": [
       "19678534"
      ]
     },
     "execution_count": 102,
     "metadata": {},
     "output_type": "execute_result"
    }
   ],
   "source": [
    "\"\"\"Solution to Day 1 Puzzle 2\"\"\"\n",
    "def solution_1_2(left, right):\n",
    "    similarity_score = 0\n",
    "    for i in range(len(left)):\n",
    "        left_num = left[i]\n",
    "        occurences = right.count(left_num)\n",
    "        similarity_score += left_num * occurences if occurences > 0 else 0\n",
    "    return similarity_score\n",
    "\n",
    "solution_1_2(left, right)"
   ]
  },
  {
   "cell_type": "code",
   "execution_count": 103,
   "metadata": {},
   "outputs": [],
   "source": [
    "\"\"\"Day 2 input\"\"\"\n",
    "day_2_input_url = \"https://adventofcode.com/2024/day/2/input\"\n",
    "day_3_content = read_input_url(day_2_input_url)\n",
    "\n",
    "# A report is a list of levels seperated by new line\n",
    "# A level is a number, seperasted by space\n",
    "\n",
    "list_of_reports = []\n",
    "for line in day_3_content.splitlines():\n",
    "    report = line.split(\" \")\n",
    "    report = [int(level) for level in report]\n",
    "    list_of_reports.append(report)"
   ]
  },
  {
   "cell_type": "code",
   "execution_count": 104,
   "metadata": {},
   "outputs": [
    {
     "data": {
      "text/plain": [
       "359"
      ]
     },
     "execution_count": 104,
     "metadata": {},
     "output_type": "execute_result"
    }
   ],
   "source": [
    "\"\"\"Soltion to Day 2 Puzzle 1\"\"\"\n",
    "\n",
    "def is_ascending(report):\n",
    "    return all(report[i] <= report[i+1] for i in range(len(report)-1))\n",
    "    \n",
    "def is_descending(report):\n",
    "    return all(report[i] >= report[i+1] for i in range(len(report)-1))\n",
    "    \n",
    "def diff_within(report, min, max):\n",
    "    for i in range(len(report)-1):\n",
    "        diff = abs(report[i] - report[i+1])\n",
    "        if diff < min or diff > max:\n",
    "            return False\n",
    "            \n",
    "    return True\n",
    "\n",
    "def is_safe(report):\n",
    "    if not (is_ascending(report) or is_descending(report)):\n",
    "        return False\n",
    "    return diff_within(report, 1, 3)\n",
    "\n",
    "count_safe_reports = 0\n",
    "for report in list_of_reports:\n",
    "    if is_safe(report):\n",
    "        count_safe_reports += 1\n",
    "\n",
    "count_safe_reports"
   ]
  },
  {
   "cell_type": "code",
   "execution_count": 105,
   "metadata": {},
   "outputs": [
    {
     "data": {
      "text/plain": [
       "418"
      ]
     },
     "execution_count": 105,
     "metadata": {},
     "output_type": "execute_result"
    }
   ],
   "source": [
    "\"\"\"Soltion to Day 2 Puzzle 2\"\"\"\n",
    "\n",
    "def is_safe_with_tolerance_of_one_level_removed(report):\n",
    "    for i in range(len(report)):\n",
    "        new_report = report[:i] + report[i+1:]\n",
    "        if is_safe(new_report):\n",
    "            return True\n",
    "    return False\n",
    "\n",
    "count_safe_reports_with_tolerance_of_one_removed = 0\n",
    "for report in list_of_reports:\n",
    "    if is_safe_with_tolerance_of_one_level_removed(report):\n",
    "        count_safe_reports_with_tolerance_of_one_removed += 1\n",
    "\n",
    "count_safe_reports_with_tolerance_of_one_removed"
   ]
  },
  {
   "cell_type": "code",
   "execution_count": 106,
   "metadata": {},
   "outputs": [],
   "source": [
    "\"\"\"Day 3 input\"\"\"\n",
    "day_3_input_url = \"https://adventofcode.com/2024/day/3/input\"\n",
    "day_3_content = read_input_url(day_3_input_url)"
   ]
  },
  {
   "cell_type": "code",
   "execution_count": 107,
   "metadata": {},
   "outputs": [
    {
     "data": {
      "text/plain": [
       "164730528"
      ]
     },
     "execution_count": 107,
     "metadata": {},
     "output_type": "execute_result"
    }
   ],
   "source": [
    "\"\"\"Solution to Day 3 Puzzle 1\"\"\"\n",
    "\n",
    "import re\n",
    "\n",
    "def parse(content, pattern):\n",
    "    return re.findall(pattern, content)\n",
    "\n",
    "def evaluated_exs(parsed_content):\n",
    "    result = 0\n",
    "    for match in parsed_content:\n",
    "        result += int(match[0]) * int(match[1])\n",
    "    return result\n",
    "\n",
    "def extract_mul_instructions(content, pattern):\n",
    "    parsed_content = parse(content, pattern)\n",
    "    return evaluated_exs(parsed_content)\n",
    "\n",
    "\n",
    "mul_pattern = r\"mul\\((\\d+),(\\d+)\\)\"\n",
    "extract_mul_instructions(day_3_content, mul_pattern)"
   ]
  },
  {
   "cell_type": "code",
   "execution_count": 108,
   "metadata": {},
   "outputs": [
    {
     "data": {
      "text/plain": [
       "70478672"
      ]
     },
     "execution_count": 108,
     "metadata": {},
     "output_type": "execute_result"
    }
   ],
   "source": [
    "\"\"\"Solution to Day 3 Puzzle 2\"\"\"\n",
    "\n",
    "def build_pattern():\n",
    "    patterns = {\n",
    "        'do': r'do\\(\\)',\n",
    "        'dont': r'don\\'t\\(\\)',\n",
    "        'mul': r\"mul\\((\\d+),(\\d+)\\)\"\n",
    "    }\n",
    "    \n",
    "    combined = '|'.join(f'(?P<{name}>{pattern})' \n",
    "                       for name, pattern in patterns.items())\n",
    "    \n",
    "    return re.compile(combined)\n",
    "\n",
    "\n",
    "def extract_do_and_dont_mul_instructions(content):\n",
    "    combined_pattern = build_pattern()\n",
    "    pattern = re.compile(combined_pattern)\n",
    "    \n",
    "    enabled = True\n",
    "    result = 0\n",
    "    \n",
    "    for match in pattern.finditer(content):\n",
    "        if match.group('do'):\n",
    "            enabled = True\n",
    "        elif match.group('dont'):\n",
    "            enabled = False\n",
    "        elif match.group('mul') and enabled:\n",
    "            a, b = map(int, match.group('mul')[4:-1].split(','))\n",
    "            result += a * b\n",
    "            \n",
    "    return result\n",
    "        \n",
    "\n",
    "extract_do_and_dont_mul_instructions(day_3_content)"
   ]
  },
  {
   "cell_type": "code",
   "execution_count": 109,
   "metadata": {},
   "outputs": [],
   "source": [
    "\"\"\"Day 4 input\"\"\"\n",
    "day_4_input_url = \"https://adventofcode.com/2024/day/4/input\"\n",
    "day_4_content = read_input_url(day_4_input_url)"
   ]
  },
  {
   "cell_type": "code",
   "execution_count": 110,
   "metadata": {},
   "outputs": [
    {
     "data": {
      "text/plain": [
       "2718"
      ]
     },
     "execution_count": 110,
     "metadata": {},
     "output_type": "execute_result"
    }
   ],
   "source": [
    "\"\"\"Solution to Day 4 Puzzle 1\"\"\"\n",
    "\n",
    "import re\n",
    "import numpy as np\n",
    "from enum import Enum, auto\n",
    "\n",
    "\n",
    "class Direction(Enum):\n",
    "    HORIZONTAL = auto()\n",
    "    VERTICAL = auto()\n",
    "    LEFT_DIAGONAL = auto()\n",
    "    RIGHT_DIAGONAL = auto()\n",
    "    REVERSE = auto()\n",
    "\n",
    "\n",
    "def create_matrix(input_str):\n",
    "    return np.array([list(line) for line in input_str.splitlines()])\n",
    "\n",
    "def get_all_lines(matrix, word_length, directions):\n",
    "    rows, cols = matrix.shape\n",
    "    lines = []\n",
    "\n",
    "    if Direction.HORIZONTAL in directions:\n",
    "        for row in matrix:\n",
    "            lines.append(\"\".join(row))\n",
    "\n",
    "    if Direction.VERTICAL in directions:\n",
    "        for col in matrix.T:\n",
    "            lines.append(\"\".join(col))\n",
    "\n",
    "    if Direction.LEFT_DIAGONAL in directions:\n",
    "        for i in range(-(rows - word_length), cols - word_length + 1):\n",
    "            diag = np.diag(matrix, k=i)\n",
    "            if len(diag) >= word_length:\n",
    "                lines.append(\"\".join(diag))\n",
    "\n",
    "    if Direction.RIGHT_DIAGONAL in directions:\n",
    "        flipped = np.fliplr(matrix)\n",
    "        for i in range(-(rows - word_length), cols - word_length + 1):\n",
    "            diag = np.diag(flipped, k=i)\n",
    "            if len(diag) >= word_length:\n",
    "                lines.append(\"\".join(diag))\n",
    "\n",
    "    if Direction.REVERSE in directions:\n",
    "        lines.extend([line[::-1] for line in lines[:]])\n",
    "\n",
    "    return lines\n",
    "\n",
    "\n",
    "def count_word_occurrences(input_str, word, directions=None):\n",
    "    matrix = create_matrix(input_str)\n",
    "    lines = get_all_lines(matrix, len(word), directions)\n",
    "    total = 0\n",
    "    pattern = f\"(?={word})\"\n",
    "\n",
    "    for line in lines:\n",
    "        total += len(re.findall(pattern, line))\n",
    "\n",
    "    return total\n",
    "\n",
    "occurences = count_word_occurrences(\n",
    "    day_4_content,\n",
    "    \"XMAS\",\n",
    "    {Direction.HORIZONTAL, Direction.REVERSE, Direction.LEFT_DIAGONAL, Direction.RIGHT_DIAGONAL, Direction.VERTICAL},\n",
    ")\n",
    "\n",
    "occurences"
   ]
  },
  {
   "cell_type": "code",
   "execution_count": 111,
   "metadata": {},
   "outputs": [
    {
     "data": {
      "text/plain": [
       "2046"
      ]
     },
     "execution_count": 111,
     "metadata": {},
     "output_type": "execute_result"
    }
   ],
   "source": [
    "\"\"\"Solution to Day 4 Puzzle 2\"\"\"\n",
    "\n",
    "def get_crossed_diagonal_occurrences(content, word):\n",
    "    matrix = np.array([list(line) for line in content.splitlines()])\n",
    "    rows, cols = matrix.shape\n",
    "    occurrences = 0\n",
    "\n",
    "    word_len = len(word)\n",
    "    center_idx = word_len // 2\n",
    "    center_char = word[center_idx]\n",
    "    pattern = f\"(?={word})\"\n",
    "\n",
    "    # Find all center character positions\n",
    "    center_positions = np.argwhere(matrix == center_char)\n",
    "\n",
    "    for pos in center_positions:\n",
    "        i, j = pos\n",
    "\n",
    "        # Skip if too close to edges\n",
    "        if (\n",
    "            i < center_idx\n",
    "            or i >= rows - center_idx\n",
    "            or j < center_idx\n",
    "            or j >= cols - center_idx\n",
    "        ):\n",
    "            continue\n",
    "\n",
    "        # Extract longer diagonals for pattern matching\n",
    "        left_diag = \"\".join(\n",
    "            matrix[\n",
    "                i - center_idx : i + center_idx + 1, j - center_idx : j + center_idx + 1\n",
    "            ].diagonal()\n",
    "        )\n",
    "        right_diag = \"\".join(\n",
    "            np.fliplr(\n",
    "                matrix[\n",
    "                    i - center_idx : i + center_idx + 1,\n",
    "                    j - center_idx : j + center_idx + 1,\n",
    "                ]\n",
    "            ).diagonal()\n",
    "        )\n",
    "\n",
    "        # Check both directions in each diagonal\n",
    "        left_matches = len(re.findall(pattern, left_diag)) + len(\n",
    "            re.findall(pattern, left_diag[::-1])\n",
    "        )\n",
    "        right_matches = len(re.findall(pattern, right_diag)) + len(\n",
    "            re.findall(pattern, right_diag[::-1])\n",
    "        )\n",
    "\n",
    "        if left_matches > 0 and right_matches > 0:\n",
    "            occurrences += 1\n",
    "\n",
    "    return occurrences\n",
    "\n",
    "\n",
    "get_crossed_diagonal_occurrences(day_4_content, \"MAS\")"
   ]
  },
  {
   "cell_type": "code",
   "execution_count": 112,
   "metadata": {},
   "outputs": [],
   "source": [
    "\"\"\"Day 5 input\"\"\"\n",
    "day_5_input_url = \"https://adventofcode.com/2024/day/5/input\"\n",
    "day_5_content = read_input_url(day_5_input_url)"
   ]
  },
  {
   "cell_type": "code",
   "execution_count": 113,
   "metadata": {},
   "outputs": [
    {
     "data": {
      "text/plain": [
       "6242"
      ]
     },
     "execution_count": 113,
     "metadata": {},
     "output_type": "execute_result"
    }
   ],
   "source": [
    "\"\"\"Solution to Day 5 Puzzle 1\"\"\"\n",
    "\n",
    "rule_section, number_section = day_5_content.split(\"\\n\\n\")\n",
    "rules = [list(map(int, section.split(\"|\"))) for section in rule_section.splitlines()]\n",
    "numbers = [list(map(int, section.split(\",\"))) for section in number_section.splitlines()]\n",
    "\n",
    "def is_ordered(rules: list[int], numbers: list[int]):\n",
    "    for rule in rules:\n",
    "        left, right = rule\n",
    "        left_index = numbers.index(left) if left in numbers else -1\n",
    "        right_index = numbers.index(right) if right in numbers else -1\n",
    "        if left_index != -1 and right_index != -1 and left_index > right_index:\n",
    "            return False\n",
    "    return True\n",
    "\n",
    "def get_correctly_ordered_numbers(rules: list[int], numbers_list: list[list[int]]):\n",
    "    for numbers in numbers_list:\n",
    "        if is_ordered(rules, numbers):\n",
    "            yield numbers\n",
    "\n",
    "\n",
    "def get_center_number(numbers_list: list[list[int]]):\n",
    "    for numbers in numbers_list:\n",
    "        center = len(numbers) // 2\n",
    "        yield (numbers[center])\n",
    "\n",
    "correct_ordered_numbers = list(get_correctly_ordered_numbers(rules, numbers))\n",
    "\n",
    "sum(get_center_number(correct_ordered_numbers))"
   ]
  },
  {
   "cell_type": "code",
   "execution_count": 114,
   "metadata": {},
   "outputs": [
    {
     "data": {
      "text/plain": [
       "5169"
      ]
     },
     "execution_count": 114,
     "metadata": {},
     "output_type": "execute_result"
    }
   ],
   "source": [
    "\"\"\"Solution to Day 5 Puzzle 2\"\"\"\n",
    "\n",
    "def order_numbers(rules: list[int], numbers: list[int]):\n",
    "    copylist = numbers.copy()\n",
    "    get_relevant_rules = [rule for rule in rules if rule[0] in copylist and rule[1] in copylist]\n",
    "    for _ in copylist:\n",
    "        for rule in get_relevant_rules:\n",
    "            left, right = rule\n",
    "            left_index = copylist.index(left)\n",
    "            right_index = copylist.index(right)\n",
    "\n",
    "            if left_index > right_index:\n",
    "                copylist[left_index], copylist[right_index] = copylist[right_index], copylist[left_index]\n",
    "\n",
    "    return copylist\n",
    "\n",
    "def order_all_unordered_numbers(rules: list[int], numbers_list: list[list[int]]):\n",
    "    for numbers in numbers_list:\n",
    "        if not is_ordered(rules, numbers):\n",
    "            yield order_numbers(rules, numbers)\n",
    "\n",
    "\n",
    "sum(get_center_number(order_all_unordered_numbers(rules, numbers)))"
   ]
  },
  {
   "cell_type": "code",
   "execution_count": 115,
   "metadata": {},
   "outputs": [],
   "source": [
    "\"\"\"Day 6 input\"\"\"\n",
    "day_6_input_url = \"https://adventofcode.com/2024/day/6/input\"\n",
    "day_6_content = read_input_url(day_6_input_url)"
   ]
  },
  {
   "cell_type": "code",
   "execution_count": 116,
   "metadata": {},
   "outputs": [
    {
     "data": {
      "text/plain": [
       "5242"
      ]
     },
     "execution_count": 116,
     "metadata": {},
     "output_type": "execute_result"
    }
   ],
   "source": [
    "\"\"\"Solution to Day 6 Puzzle 1\"\"\"\n",
    "\n",
    "directions = [\">\", \"v\", \"<\", \"^\"]\n",
    "obstacle = \"#\"\n",
    "empty = \".\"\n",
    "\n",
    "\n",
    "def get_guard_pos_and_dir(matrix):\n",
    "    for i, row in enumerate(matrix):\n",
    "        for j, cell in enumerate(row):\n",
    "            if cell in directions:\n",
    "                return i, j, cell\n",
    "\n",
    "\n",
    "def peek(matrix, i, j, direction):\n",
    "    row, col = matrix.shape\n",
    "    next_i, next_j = i, j\n",
    "\n",
    "    if direction == \">\":\n",
    "        next_j += 1\n",
    "    elif direction == \"v\":\n",
    "        next_i += 1\n",
    "    elif direction == \"<\":\n",
    "        next_j -= 1\n",
    "    elif direction == \"^\":\n",
    "        next_i -= 1\n",
    "\n",
    "    if next_i < 0 or next_i >= row or next_j < 0 or next_j >= col:\n",
    "        return None\n",
    "    return matrix[next_i, next_j]\n",
    "\n",
    "\n",
    "def new_direction(current_direction):\n",
    "    if current_direction == \"^\":\n",
    "        return \">\"\n",
    "    if current_direction == \">\":\n",
    "        return \"v\"\n",
    "    if current_direction == \"v\":\n",
    "        return \"<\"\n",
    "    if current_direction == \"<\":\n",
    "        return \"^\"\n",
    "\n",
    "\n",
    "def move(matrix, guard):\n",
    "    i, j, direction = guard\n",
    "    peek_ahead = peek(matrix, i, j, direction)\n",
    "    if peek_ahead == None:\n",
    "        return i, j, None\n",
    "    if peek_ahead == obstacle:\n",
    "        return i, j, new_direction(direction)\n",
    "    if direction == \"^\":\n",
    "        return i - 1, j, direction\n",
    "    if direction == \">\":\n",
    "        return i, j + 1, direction\n",
    "    if direction == \"v\":\n",
    "        return i + 1, j, direction\n",
    "    if direction == \"<\":\n",
    "        return i, j - 1, direction\n",
    "\n",
    "\n",
    "def guard_route(matrix, guard):\n",
    "    i, j, direction = guard\n",
    "    route_matrix = np.zeros_like(matrix, dtype=int)\n",
    "    route_matrix[i, j] = 1\n",
    "\n",
    "    while True:\n",
    "        cur_i, cur_j = i, j\n",
    "        guard = move(matrix, guard)\n",
    "        i, j, direction = guard\n",
    "\n",
    "        route_matrix[cur_i, cur_j] += 1\n",
    "\n",
    "        if direction == None:\n",
    "            return route_matrix\n",
    "\n",
    "\n",
    "matrix = create_matrix(day_6_content)\n",
    "guard = get_guard_pos_and_dir(matrix)\n",
    "route = guard_route(matrix, guard)\n",
    "sum(map(lambda x: 1 if x > 0 else 0, route.flatten()))"
   ]
  },
  {
   "cell_type": "code",
   "execution_count": 117,
   "metadata": {},
   "outputs": [
    {
     "data": {
      "text/plain": [
       "1424"
      ]
     },
     "execution_count": 117,
     "metadata": {},
     "output_type": "execute_result"
    }
   ],
   "source": [
    "\"\"\"Solution to Day 6 Puzzle 2\"\"\"\n",
    "\n",
    "def is_loop(matrix, guard):\n",
    "    visited = set()\n",
    "    i, j, direction = guard\n",
    "\n",
    "    while True:\n",
    "        state = (i, j, direction)\n",
    "        if state in visited:\n",
    "            return True\n",
    "        \n",
    "        visited.add(state)\n",
    "        guard = move(matrix, guard)\n",
    "        i, j, direction = guard\n",
    "\n",
    "        if direction == None:\n",
    "            return False\n",
    "\n",
    "def find_all_loops(matrix, guard):\n",
    "    empty_positions = np.argwhere(matrix == empty)\n",
    "    loops = []\n",
    "    matrix_copy = matrix.copy()\n",
    "\n",
    "    for i, j in empty_positions:\n",
    "        matrix_copy[i, j] = obstacle\n",
    "        if is_loop(matrix_copy, guard):\n",
    "            loops.append((i, j))\n",
    "        matrix_copy[i, j] = empty\n",
    "\n",
    "    return loops\n",
    "\n",
    "matrix = create_matrix(day_6_content)\n",
    "guard = get_guard_pos_and_dir(matrix)\n",
    "len(list(find_all_loops(matrix, guard)))"
   ]
  },
  {
   "cell_type": "code",
   "execution_count": 118,
   "metadata": {},
   "outputs": [],
   "source": [
    "\"\"\"Day 7 input\"\"\"\n",
    "day_7_input_url = \"https://adventofcode.com/2024/day/7/input\"\n",
    "day_7_content = read_input_url(day_7_input_url)"
   ]
  },
  {
   "cell_type": "code",
   "execution_count": 119,
   "metadata": {},
   "outputs": [
    {
     "data": {
      "text/plain": [
       "5837374519342"
      ]
     },
     "execution_count": 119,
     "metadata": {},
     "output_type": "execute_result"
    }
   ],
   "source": [
    "\"\"\"Solution to Day 7 Puzzle 1\"\"\"\n",
    "\n",
    "from itertools import product\n",
    "\n",
    "operands = {\n",
    "    \"+\": lambda a, b: a + b,\n",
    "    \"*\": lambda a, b: a * b,\n",
    "}\n",
    "\n",
    "def split_expression(content):\n",
    "    expect, remainder = content.split(\":\")\n",
    "    expect = int(expect)\n",
    "    numbers = list(map(int, remainder.strip().split(\" \")))\n",
    "    return expect, numbers\n",
    "\n",
    "\n",
    "def get_expression(input):\n",
    "    return map(split_expression, input.splitlines())\n",
    "\n",
    "\n",
    "def evaluate_expression(numbers, perm, expect):\n",
    "    result = numbers[0]\n",
    "    for i, number in enumerate(numbers[1:]):\n",
    "        if operands.get(perm[i]):\n",
    "            result = operands[perm[i]](result, number)\n",
    "        else:\n",
    "            raise ValueError(f\"Invalid operand {perm[i]}\")\n",
    "        \n",
    "        if result > expect:\n",
    "            return None\n",
    "\n",
    "    return result\n",
    "\n",
    "\n",
    "def get_correct_expression(expect: int, numbers: list[int]):\n",
    "    for perm in product(operands.keys(), repeat=len(numbers) - 1):\n",
    "        if evaluate_expression(numbers, perm, expect) == expect:\n",
    "            return expect\n",
    "\n",
    "\n",
    "def get_valid_values(expressions: list[int, list[int]]):\n",
    "    for expect, numbers in expressions:\n",
    "        result = get_correct_expression(expect, numbers)\n",
    "        if result:\n",
    "            yield result\n",
    "\n",
    "\n",
    "expressions = get_expression(day_7_content)\n",
    "correct_expressions = list(get_valid_values(expressions))\n",
    "sum(correct_expressions)"
   ]
  },
  {
   "cell_type": "code",
   "execution_count": null,
   "metadata": {},
   "outputs": [],
   "source": [
    "\"\"\"Solution to Day 7 Puzzle 2\"\"\"\n",
    "\n",
    "operands[\"||\"] = lambda a, b: int(f\"{a}{b}\")\n",
    "\n",
    "expressions = get_expression(day_7_content)\n",
    "correct_expressions = list(get_valid_values(expressions))\n",
    "sum(correct_expressions)"
   ]
  }
 ],
 "metadata": {
  "kernelspec": {
   "display_name": ".venv",
   "language": "python",
   "name": "python3"
  },
  "language_info": {
   "codemirror_mode": {
    "name": "ipython",
    "version": 3
   },
   "file_extension": ".py",
   "mimetype": "text/x-python",
   "name": "python",
   "nbconvert_exporter": "python",
   "pygments_lexer": "ipython3",
   "version": "3.12.7"
  }
 },
 "nbformat": 4,
 "nbformat_minor": 2
}
