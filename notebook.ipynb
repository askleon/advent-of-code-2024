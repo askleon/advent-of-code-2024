{
 "cells": [
  {
   "cell_type": "code",
   "execution_count": 115,
   "metadata": {},
   "outputs": [
    {
     "name": "stderr",
     "output_type": "stream",
     "text": [
      "8376.73s - pydevd: Sending message related to process being replaced timed-out after 5 seconds\n",
      "8382.56s - pydevd: Sending message related to process being replaced timed-out after 5 seconds\n",
      "8388.22s - pydevd: Sending message related to process being replaced timed-out after 5 seconds\n"
     ]
    }
   ],
   "source": [
    "%%capture --no-display\n",
    "%pip install requests\n",
    "%pip install python-dotenv\n",
    "%pip install numpy"
   ]
  },
  {
   "cell_type": "code",
   "execution_count": 116,
   "metadata": {},
   "outputs": [],
   "source": [
    "import requests\n",
    "import os\n",
    "from dotenv import load_dotenv\n",
    "\n",
    "load_dotenv()\n",
    "\n",
    "def read_input_url(url):\n",
    "    headers = {\n",
    "        'Cookie': f'session={os.getenv(\"SESSION_COOKIE\")}'\n",
    "    }\n",
    "    response = requests.get(url, headers=headers)\n",
    "    response.raise_for_status()\n",
    "    return response.text\n",
    "\n",
    "def get_aoc_input(day):\n",
    "    return read_input_url(f'https://adventofcode.com/2024/day/{day}/input')"
   ]
  },
  {
   "cell_type": "code",
   "execution_count": 117,
   "metadata": {},
   "outputs": [],
   "source": [
    "\"\"\"Day 1 input\"\"\"\n",
    "day_1_input = get_aoc_input(1)\n",
    " \n",
    "left = []\n",
    "right = []\n",
    "for line in day_1_input.splitlines():\n",
    "    left_num, right_num = line.split(\"   \")\n",
    "    left.append(int(left_num))\n",
    "    right.append(int(right_num))"
   ]
  },
  {
   "cell_type": "code",
   "execution_count": 118,
   "metadata": {},
   "outputs": [
    {
     "data": {
      "text/plain": [
       "29037157"
      ]
     },
     "execution_count": 118,
     "metadata": {},
     "output_type": "execute_result"
    }
   ],
   "source": [
    "\"\"\"Solution to Day 1 Puzzle 1\"\"\"\n",
    "def solution_1_1(left, right):\n",
    "    similarity_score = 0\n",
    "    for i in range(len(left)):\n",
    "        similarity_score += abs(left[i] - right[i])\n",
    "    return similarity_score\n",
    "\n",
    "solution_1_1(left, right)"
   ]
  },
  {
   "cell_type": "code",
   "execution_count": 119,
   "metadata": {},
   "outputs": [
    {
     "data": {
      "text/plain": [
       "19678534"
      ]
     },
     "execution_count": 119,
     "metadata": {},
     "output_type": "execute_result"
    }
   ],
   "source": [
    "\"\"\"Solution to Day 1 Puzzle 2\"\"\"\n",
    "def solution_1_2(left, right):\n",
    "    similarity_score = 0\n",
    "    for i in range(len(left)):\n",
    "        left_num = left[i]\n",
    "        occurences = right.count(left_num)\n",
    "        similarity_score += left_num * occurences if occurences > 0 else 0\n",
    "    return similarity_score\n",
    "\n",
    "solution_1_2(left, right)"
   ]
  },
  {
   "cell_type": "code",
   "execution_count": 120,
   "metadata": {},
   "outputs": [],
   "source": [
    "\"\"\"Day 2 input\"\"\"\n",
    "day_2_input = get_aoc_input(2)\n",
    "\n",
    "# A report is a list of levels seperated by new line\n",
    "# A level is a number, seperasted by space\n",
    "\n",
    "list_of_reports = []\n",
    "for line in day_2_input.splitlines():\n",
    "    report = line.split(\" \")\n",
    "    report = [int(level) for level in report]\n",
    "    list_of_reports.append(report)"
   ]
  },
  {
   "cell_type": "code",
   "execution_count": 121,
   "metadata": {},
   "outputs": [
    {
     "data": {
      "text/plain": [
       "359"
      ]
     },
     "execution_count": 121,
     "metadata": {},
     "output_type": "execute_result"
    }
   ],
   "source": [
    "\"\"\"Soltion to Day 2 Puzzle 1\"\"\"\n",
    "\n",
    "def is_ascending(report):\n",
    "    return all(report[i] <= report[i+1] for i in range(len(report)-1))\n",
    "    \n",
    "def is_descending(report):\n",
    "    return all(report[i] >= report[i+1] for i in range(len(report)-1))\n",
    "    \n",
    "def diff_within(report, min, max):\n",
    "    for i in range(len(report)-1):\n",
    "        diff = abs(report[i] - report[i+1])\n",
    "        if diff < min or diff > max:\n",
    "            return False\n",
    "            \n",
    "    return True\n",
    "\n",
    "def is_safe(report):\n",
    "    if not (is_ascending(report) or is_descending(report)):\n",
    "        return False\n",
    "    return diff_within(report, 1, 3)\n",
    "\n",
    "count_safe_reports = 0\n",
    "for report in list_of_reports:\n",
    "    if is_safe(report):\n",
    "        count_safe_reports += 1\n",
    "\n",
    "count_safe_reports"
   ]
  },
  {
   "cell_type": "code",
   "execution_count": 122,
   "metadata": {},
   "outputs": [
    {
     "data": {
      "text/plain": [
       "418"
      ]
     },
     "execution_count": 122,
     "metadata": {},
     "output_type": "execute_result"
    }
   ],
   "source": [
    "\"\"\"Soltion to Day 2 Puzzle 2\"\"\"\n",
    "\n",
    "def is_safe_with_tolerance_of_one_level_removed(report):\n",
    "    for i in range(len(report)):\n",
    "        new_report = report[:i] + report[i+1:]\n",
    "        if is_safe(new_report):\n",
    "            return True\n",
    "    return False\n",
    "\n",
    "count_safe_reports_with_tolerance_of_one_removed = 0\n",
    "for report in list_of_reports:\n",
    "    if is_safe_with_tolerance_of_one_level_removed(report):\n",
    "        count_safe_reports_with_tolerance_of_one_removed += 1\n",
    "\n",
    "count_safe_reports_with_tolerance_of_one_removed"
   ]
  },
  {
   "cell_type": "code",
   "execution_count": 123,
   "metadata": {},
   "outputs": [],
   "source": [
    "\"\"\"Day 3 input\"\"\"\n",
    "day_3_input = get_aoc_input(3)"
   ]
  },
  {
   "cell_type": "code",
   "execution_count": 124,
   "metadata": {},
   "outputs": [
    {
     "data": {
      "text/plain": [
       "164730528"
      ]
     },
     "execution_count": 124,
     "metadata": {},
     "output_type": "execute_result"
    }
   ],
   "source": [
    "\"\"\"Solution to Day 3 Puzzle 1\"\"\"\n",
    "\n",
    "import re\n",
    "\n",
    "def parse(content, pattern):\n",
    "    return re.findall(pattern, content)\n",
    "\n",
    "def evaluated_exs(parsed_content):\n",
    "    result = 0\n",
    "    for match in parsed_content:\n",
    "        result += int(match[0]) * int(match[1])\n",
    "    return result\n",
    "\n",
    "def extract_mul_instructions(content, pattern):\n",
    "    parsed_content = parse(content, pattern)\n",
    "    return evaluated_exs(parsed_content)\n",
    "\n",
    "\n",
    "mul_pattern = r\"mul\\((\\d+),(\\d+)\\)\"\n",
    "extract_mul_instructions(day_3_input, mul_pattern)"
   ]
  },
  {
   "cell_type": "code",
   "execution_count": 125,
   "metadata": {},
   "outputs": [
    {
     "data": {
      "text/plain": [
       "70478672"
      ]
     },
     "execution_count": 125,
     "metadata": {},
     "output_type": "execute_result"
    }
   ],
   "source": [
    "\"\"\"Solution to Day 3 Puzzle 2\"\"\"\n",
    "\n",
    "def build_pattern():\n",
    "    patterns = {\n",
    "        'do': r'do\\(\\)',\n",
    "        'dont': r'don\\'t\\(\\)',\n",
    "        'mul': r\"mul\\((\\d+),(\\d+)\\)\"\n",
    "    }\n",
    "    \n",
    "    combined = '|'.join(f'(?P<{name}>{pattern})' \n",
    "                       for name, pattern in patterns.items())\n",
    "    \n",
    "    return re.compile(combined)\n",
    "\n",
    "\n",
    "def extract_do_and_dont_mul_instructions(content):\n",
    "    combined_pattern = build_pattern()\n",
    "    pattern = re.compile(combined_pattern)\n",
    "    \n",
    "    enabled = True\n",
    "    result = 0\n",
    "    \n",
    "    for match in pattern.finditer(content):\n",
    "        if match.group('do'):\n",
    "            enabled = True\n",
    "        elif match.group('dont'):\n",
    "            enabled = False\n",
    "        elif match.group('mul') and enabled:\n",
    "            a, b = map(int, match.group('mul')[4:-1].split(','))\n",
    "            result += a * b\n",
    "            \n",
    "    return result\n",
    "        \n",
    "\n",
    "extract_do_and_dont_mul_instructions(day_3_input)"
   ]
  },
  {
   "cell_type": "code",
   "execution_count": 126,
   "metadata": {},
   "outputs": [],
   "source": [
    "\"\"\"Day 4 input\"\"\"\n",
    "day_4_input = get_aoc_input(4)"
   ]
  },
  {
   "cell_type": "code",
   "execution_count": 127,
   "metadata": {},
   "outputs": [
    {
     "data": {
      "text/plain": [
       "2718"
      ]
     },
     "execution_count": 127,
     "metadata": {},
     "output_type": "execute_result"
    }
   ],
   "source": [
    "\"\"\"Solution to Day 4 Puzzle 1\"\"\"\n",
    "\n",
    "import re\n",
    "import numpy as np\n",
    "from enum import Enum, auto\n",
    "\n",
    "\n",
    "class Direction(Enum):\n",
    "    HORIZONTAL = auto()\n",
    "    VERTICAL = auto()\n",
    "    LEFT_DIAGONAL = auto()\n",
    "    RIGHT_DIAGONAL = auto()\n",
    "    REVERSE = auto()\n",
    "\n",
    "\n",
    "def create_matrix(input_str):\n",
    "    return np.array([list(line) for line in input_str.splitlines()])\n",
    "\n",
    "def get_all_lines(matrix, word_length, directions):\n",
    "    rows, cols = matrix.shape\n",
    "    lines = []\n",
    "\n",
    "    if Direction.HORIZONTAL in directions:\n",
    "        for row in matrix:\n",
    "            lines.append(\"\".join(row))\n",
    "\n",
    "    if Direction.VERTICAL in directions:\n",
    "        for col in matrix.T:\n",
    "            lines.append(\"\".join(col))\n",
    "\n",
    "    if Direction.LEFT_DIAGONAL in directions:\n",
    "        for i in range(-(rows - word_length), cols - word_length + 1):\n",
    "            diag = np.diag(matrix, k=i)\n",
    "            if len(diag) >= word_length:\n",
    "                lines.append(\"\".join(diag))\n",
    "\n",
    "    if Direction.RIGHT_DIAGONAL in directions:\n",
    "        flipped = np.fliplr(matrix)\n",
    "        for i in range(-(rows - word_length), cols - word_length + 1):\n",
    "            diag = np.diag(flipped, k=i)\n",
    "            if len(diag) >= word_length:\n",
    "                lines.append(\"\".join(diag))\n",
    "\n",
    "    if Direction.REVERSE in directions:\n",
    "        lines.extend([line[::-1] for line in lines[:]])\n",
    "\n",
    "    return lines\n",
    "\n",
    "\n",
    "def count_word_occurrences(input_str, word, directions=None):\n",
    "    matrix = create_matrix(input_str)\n",
    "    lines = get_all_lines(matrix, len(word), directions)\n",
    "    total = 0\n",
    "    pattern = f\"(?={word})\"\n",
    "\n",
    "    for line in lines:\n",
    "        total += len(re.findall(pattern, line))\n",
    "\n",
    "    return total\n",
    "\n",
    "occurences = count_word_occurrences(\n",
    "    day_4_input,\n",
    "    \"XMAS\",\n",
    "    {Direction.HORIZONTAL, Direction.REVERSE, Direction.LEFT_DIAGONAL, Direction.RIGHT_DIAGONAL, Direction.VERTICAL},\n",
    ")\n",
    "\n",
    "occurences"
   ]
  },
  {
   "cell_type": "code",
   "execution_count": 128,
   "metadata": {},
   "outputs": [
    {
     "data": {
      "text/plain": [
       "2046"
      ]
     },
     "execution_count": 128,
     "metadata": {},
     "output_type": "execute_result"
    }
   ],
   "source": [
    "\"\"\"Solution to Day 4 Puzzle 2\"\"\"\n",
    "\n",
    "def get_crossed_diagonal_occurrences(content, word):\n",
    "    matrix = np.array([list(line) for line in content.splitlines()])\n",
    "    rows, cols = matrix.shape\n",
    "    occurrences = 0\n",
    "\n",
    "    word_len = len(word)\n",
    "    center_idx = word_len // 2\n",
    "    center_char = word[center_idx]\n",
    "    pattern = f\"(?={word})\"\n",
    "\n",
    "    # Find all center character positions\n",
    "    center_positions = np.argwhere(matrix == center_char)\n",
    "\n",
    "    for pos in center_positions:\n",
    "        i, j = pos\n",
    "\n",
    "        # Skip if too close to edges\n",
    "        if (\n",
    "            i < center_idx\n",
    "            or i >= rows - center_idx\n",
    "            or j < center_idx\n",
    "            or j >= cols - center_idx\n",
    "        ):\n",
    "            continue\n",
    "\n",
    "        # Extract longer diagonals for pattern matching\n",
    "        left_diag = \"\".join(\n",
    "            matrix[\n",
    "                i - center_idx : i + center_idx + 1, j - center_idx : j + center_idx + 1\n",
    "            ].diagonal()\n",
    "        )\n",
    "        right_diag = \"\".join(\n",
    "            np.fliplr(\n",
    "                matrix[\n",
    "                    i - center_idx : i + center_idx + 1,\n",
    "                    j - center_idx : j + center_idx + 1,\n",
    "                ]\n",
    "            ).diagonal()\n",
    "        )\n",
    "\n",
    "        # Check both directions in each diagonal\n",
    "        left_matches = len(re.findall(pattern, left_diag)) + len(\n",
    "            re.findall(pattern, left_diag[::-1])\n",
    "        )\n",
    "        right_matches = len(re.findall(pattern, right_diag)) + len(\n",
    "            re.findall(pattern, right_diag[::-1])\n",
    "        )\n",
    "\n",
    "        if left_matches > 0 and right_matches > 0:\n",
    "            occurrences += 1\n",
    "\n",
    "    return occurrences\n",
    "\n",
    "\n",
    "get_crossed_diagonal_occurrences(day_4_input, \"MAS\")"
   ]
  },
  {
   "cell_type": "code",
   "execution_count": 129,
   "metadata": {},
   "outputs": [],
   "source": [
    "\"\"\"Day 5 input\"\"\"\n",
    "day_5_input = get_aoc_input(5)"
   ]
  },
  {
   "cell_type": "code",
   "execution_count": 130,
   "metadata": {},
   "outputs": [
    {
     "data": {
      "text/plain": [
       "6242"
      ]
     },
     "execution_count": 130,
     "metadata": {},
     "output_type": "execute_result"
    }
   ],
   "source": [
    "\"\"\"Solution to Day 5 Puzzle 1\"\"\"\n",
    "\n",
    "rule_section, number_section = day_5_input.split(\"\\n\\n\")\n",
    "rules = [list(map(int, section.split(\"|\"))) for section in rule_section.splitlines()]\n",
    "numbers = [list(map(int, section.split(\",\"))) for section in number_section.splitlines()]\n",
    "\n",
    "def is_ordered(rules: list[int], numbers: list[int]):\n",
    "    for rule in rules:\n",
    "        left, right = rule\n",
    "        left_index = numbers.index(left) if left in numbers else -1\n",
    "        right_index = numbers.index(right) if right in numbers else -1\n",
    "        if left_index != -1 and right_index != -1 and left_index > right_index:\n",
    "            return False\n",
    "    return True\n",
    "\n",
    "def get_correctly_ordered_numbers(rules: list[int], numbers_list: list[list[int]]):\n",
    "    for numbers in numbers_list:\n",
    "        if is_ordered(rules, numbers):\n",
    "            yield numbers\n",
    "\n",
    "\n",
    "def get_center_number(numbers_list: list[list[int]]):\n",
    "    for numbers in numbers_list:\n",
    "        center = len(numbers) // 2\n",
    "        yield (numbers[center])\n",
    "\n",
    "correct_ordered_numbers = list(get_correctly_ordered_numbers(rules, numbers))\n",
    "\n",
    "sum(get_center_number(correct_ordered_numbers))"
   ]
  },
  {
   "cell_type": "code",
   "execution_count": 131,
   "metadata": {},
   "outputs": [
    {
     "data": {
      "text/plain": [
       "5169"
      ]
     },
     "execution_count": 131,
     "metadata": {},
     "output_type": "execute_result"
    }
   ],
   "source": [
    "\"\"\"Solution to Day 5 Puzzle 2\"\"\"\n",
    "\n",
    "def order_numbers(rules: list[int], numbers: list[int]):\n",
    "    copylist = numbers.copy()\n",
    "    get_relevant_rules = [rule for rule in rules if rule[0] in copylist and rule[1] in copylist]\n",
    "    for _ in copylist:\n",
    "        for rule in get_relevant_rules:\n",
    "            left, right = rule\n",
    "            left_index = copylist.index(left)\n",
    "            right_index = copylist.index(right)\n",
    "\n",
    "            if left_index > right_index:\n",
    "                copylist[left_index], copylist[right_index] = copylist[right_index], copylist[left_index]\n",
    "\n",
    "    return copylist\n",
    "\n",
    "def order_all_unordered_numbers(rules: list[int], numbers_list: list[list[int]]):\n",
    "    for numbers in numbers_list:\n",
    "        if not is_ordered(rules, numbers):\n",
    "            yield order_numbers(rules, numbers)\n",
    "\n",
    "\n",
    "sum(get_center_number(order_all_unordered_numbers(rules, numbers)))"
   ]
  },
  {
   "cell_type": "code",
   "execution_count": 132,
   "metadata": {},
   "outputs": [],
   "source": [
    "\"\"\"Day 6 input\"\"\"\n",
    "day_6_input = get_aoc_input(6)"
   ]
  },
  {
   "cell_type": "code",
   "execution_count": 133,
   "metadata": {},
   "outputs": [
    {
     "data": {
      "text/plain": [
       "5242"
      ]
     },
     "execution_count": 133,
     "metadata": {},
     "output_type": "execute_result"
    }
   ],
   "source": [
    "\"\"\"Solution to Day 6 Puzzle 1\"\"\"\n",
    "\n",
    "directions = [\">\", \"v\", \"<\", \"^\"]\n",
    "obstacle = \"#\"\n",
    "empty = \".\"\n",
    "\n",
    "\n",
    "def get_guard_pos_and_dir(matrix):\n",
    "    for i, row in enumerate(matrix):\n",
    "        for j, cell in enumerate(row):\n",
    "            if cell in directions:\n",
    "                return i, j, cell\n",
    "\n",
    "\n",
    "def peek(matrix, i, j, direction):\n",
    "    row, col = matrix.shape\n",
    "    next_i, next_j = i, j\n",
    "\n",
    "    if direction == \">\":\n",
    "        next_j += 1\n",
    "    elif direction == \"v\":\n",
    "        next_i += 1\n",
    "    elif direction == \"<\":\n",
    "        next_j -= 1\n",
    "    elif direction == \"^\":\n",
    "        next_i -= 1\n",
    "\n",
    "    if next_i < 0 or next_i >= row or next_j < 0 or next_j >= col:\n",
    "        return None\n",
    "    return matrix[next_i, next_j]\n",
    "\n",
    "\n",
    "def new_direction(current_direction):\n",
    "    if current_direction == \"^\":\n",
    "        return \">\"\n",
    "    if current_direction == \">\":\n",
    "        return \"v\"\n",
    "    if current_direction == \"v\":\n",
    "        return \"<\"\n",
    "    if current_direction == \"<\":\n",
    "        return \"^\"\n",
    "\n",
    "\n",
    "def move(matrix, guard):\n",
    "    i, j, direction = guard\n",
    "    peek_ahead = peek(matrix, i, j, direction)\n",
    "    if peek_ahead == None:\n",
    "        return i, j, None\n",
    "    if peek_ahead == obstacle:\n",
    "        return i, j, new_direction(direction)\n",
    "    if direction == \"^\":\n",
    "        return i - 1, j, direction\n",
    "    if direction == \">\":\n",
    "        return i, j + 1, direction\n",
    "    if direction == \"v\":\n",
    "        return i + 1, j, direction\n",
    "    if direction == \"<\":\n",
    "        return i, j - 1, direction\n",
    "\n",
    "\n",
    "def guard_route(matrix, guard):\n",
    "    i, j, direction = guard\n",
    "    route_matrix = np.zeros_like(matrix, dtype=int)\n",
    "    route_matrix[i, j] = 1\n",
    "\n",
    "    while True:\n",
    "        cur_i, cur_j = i, j\n",
    "        guard = move(matrix, guard)\n",
    "        i, j, direction = guard\n",
    "\n",
    "        route_matrix[cur_i, cur_j] += 1\n",
    "\n",
    "        if direction == None:\n",
    "            return route_matrix\n",
    "\n",
    "\n",
    "matrix = create_matrix(day_6_input)\n",
    "guard = get_guard_pos_and_dir(matrix)\n",
    "route = guard_route(matrix, guard)\n",
    "sum(map(lambda x: 1 if x > 0 else 0, route.flatten()))"
   ]
  },
  {
   "cell_type": "code",
   "execution_count": 134,
   "metadata": {},
   "outputs": [
    {
     "data": {
      "text/plain": [
       "1424"
      ]
     },
     "execution_count": 134,
     "metadata": {},
     "output_type": "execute_result"
    }
   ],
   "source": [
    "\"\"\"Solution to Day 6 Puzzle 2\"\"\"\n",
    "\n",
    "def is_loop(matrix, guard):\n",
    "    visited = set()\n",
    "    i, j, direction = guard\n",
    "\n",
    "    while True:\n",
    "        state = (i, j, direction)\n",
    "        if state in visited:\n",
    "            return True\n",
    "        \n",
    "        visited.add(state)\n",
    "        guard = move(matrix, guard)\n",
    "        i, j, direction = guard\n",
    "\n",
    "        if direction == None:\n",
    "            return False\n",
    "\n",
    "def find_all_loops(matrix, guard):\n",
    "    empty_positions = np.argwhere(matrix == empty)\n",
    "    loops = []\n",
    "    matrix_copy = matrix.copy()\n",
    "\n",
    "    for i, j in empty_positions:\n",
    "        matrix_copy[i, j] = obstacle\n",
    "        if is_loop(matrix_copy, guard):\n",
    "            loops.append((i, j))\n",
    "        matrix_copy[i, j] = empty\n",
    "\n",
    "    return loops\n",
    "\n",
    "matrix = create_matrix(day_6_input)\n",
    "guard = get_guard_pos_and_dir(matrix)\n",
    "len(list(find_all_loops(matrix, guard)))"
   ]
  },
  {
   "cell_type": "code",
   "execution_count": 135,
   "metadata": {},
   "outputs": [],
   "source": [
    "\"\"\"Day 7 input\"\"\"\n",
    "day_7_input = get_aoc_input(7)"
   ]
  },
  {
   "cell_type": "code",
   "execution_count": 136,
   "metadata": {},
   "outputs": [
    {
     "data": {
      "text/plain": [
       "5837374519342"
      ]
     },
     "execution_count": 136,
     "metadata": {},
     "output_type": "execute_result"
    }
   ],
   "source": [
    "\"\"\"Solution to Day 7 Puzzle 1\"\"\"\n",
    "\n",
    "from itertools import product\n",
    "\n",
    "operands = {\n",
    "    \"+\": lambda a, b: a + b,\n",
    "    \"*\": lambda a, b: a * b,\n",
    "}\n",
    "\n",
    "def split_expression(content):\n",
    "    expect, remainder = content.split(\":\")\n",
    "    expect = int(expect)\n",
    "    numbers = list(map(int, remainder.strip().split(\" \")))\n",
    "    return expect, numbers\n",
    "\n",
    "\n",
    "def get_expression(input):\n",
    "    return map(split_expression, input.splitlines())\n",
    "\n",
    "\n",
    "def evaluate_expression(numbers, perm, expect):\n",
    "    result = numbers[0]\n",
    "    for i, number in enumerate(numbers[1:]):\n",
    "        if operands.get(perm[i]):\n",
    "            result = operands[perm[i]](result, number)\n",
    "        else:\n",
    "            raise ValueError(f\"Invalid operand {perm[i]}\")\n",
    "        \n",
    "        if result > expect:\n",
    "            return None\n",
    "\n",
    "    return result\n",
    "\n",
    "\n",
    "def get_correct_expression(expect: int, numbers: list[int]):\n",
    "    for perm in product(operands.keys(), repeat=len(numbers) - 1):\n",
    "        if evaluate_expression(numbers, perm, expect) == expect:\n",
    "            return expect\n",
    "\n",
    "\n",
    "def get_valid_values(expressions: list[int, list[int]]):\n",
    "    for expect, numbers in expressions:\n",
    "        result = get_correct_expression(expect, numbers)\n",
    "        if result:\n",
    "            yield result\n",
    "\n",
    "\n",
    "expressions = get_expression(day_7_input)\n",
    "correct_expressions = list(get_valid_values(expressions))\n",
    "sum(correct_expressions)"
   ]
  },
  {
   "cell_type": "code",
   "execution_count": 137,
   "metadata": {},
   "outputs": [
    {
     "data": {
      "text/plain": [
       "492383931650959"
      ]
     },
     "execution_count": 137,
     "metadata": {},
     "output_type": "execute_result"
    }
   ],
   "source": [
    "\"\"\"Solution to Day 7 Puzzle 2\"\"\"\n",
    "\n",
    "operands[\"||\"] = lambda a, b: int(f\"{a}{b}\")\n",
    "\n",
    "expressions = get_expression(day_7_input)\n",
    "correct_expressions = list(get_valid_values(expressions))\n",
    "sum(correct_expressions)"
   ]
  },
  {
   "cell_type": "code",
   "execution_count": 138,
   "metadata": {},
   "outputs": [],
   "source": [
    "\"\"\"Day 8 input\"\"\"\n",
    "day_8_input = get_aoc_input(8)"
   ]
  },
  {
   "cell_type": "code",
   "execution_count": 139,
   "metadata": {},
   "outputs": [
    {
     "data": {
      "text/plain": [
       "390"
      ]
     },
     "execution_count": 139,
     "metadata": {},
     "output_type": "execute_result"
    }
   ],
   "source": [
    "\"\"\"Day 8 Puzzle 1\"\"\"\n",
    "\n",
    "\n",
    "def parse_input(content):\n",
    "    lines = content.splitlines()\n",
    "    width = len(lines[0])\n",
    "    height = len(lines)\n",
    "    return lines, width, height\n",
    "\n",
    "\n",
    "def make_points(content, width, height):\n",
    "    points = []\n",
    "    for y in range(height):\n",
    "        for x in range(width):\n",
    "            if content[y][x] != \".\":\n",
    "                points.append((content[y][x], x, y))\n",
    "    return points\n",
    "\n",
    "\n",
    "def within(width, height, x, y) -> bool:\n",
    "    return 0 <= x < width and 0 <= y < height\n",
    "\n",
    "\n",
    "def diff(x1, y1, x2, y2):\n",
    "    dx = x2 - x1\n",
    "    dy = y2 - y1\n",
    "    return dx, dy\n",
    "\n",
    "\n",
    "def diff_offset(x1, y1, x2, y2):\n",
    "    dx, dy = diff(x1, y1, x2, y2)\n",
    "    return x2 + dx, y2 + dy\n",
    "\n",
    "\n",
    "def antinodes(points: list):\n",
    "    new_points = set()\n",
    "    for a in points:\n",
    "        for b in points:\n",
    "            if a[0] != b[0]:\n",
    "                new_points.add(b)\n",
    "                continue\n",
    "\n",
    "            x, y = diff_offset(a[1], a[2], b[1], b[2])\n",
    "\n",
    "            if (a[0], x, y) in points:\n",
    "                continue\n",
    "\n",
    "            if within(width, height, x, y):\n",
    "                new_points.add((\"#\", x, y))\n",
    "\n",
    "    return new_points\n",
    "\n",
    "\n",
    "lines, width, height = parse_input(day_8_input)\n",
    "points = make_points(lines, width, height)\n",
    "anti = antinodes(points)\n",
    "count = len(list(filter(lambda x: x[0] == \"#\", anti)))\n",
    "count"
   ]
  },
  {
   "cell_type": "code",
   "execution_count": 140,
   "metadata": {},
   "outputs": [
    {
     "data": {
      "text/plain": [
       "1246"
      ]
     },
     "execution_count": 140,
     "metadata": {},
     "output_type": "execute_result"
    }
   ],
   "source": [
    "\"\"\"Day 8 Puzzle 2\"\"\"\n",
    "\n",
    "\n",
    "def blocked(points, x, y) -> bool:\n",
    "    return any(px == x and py == y for _, px, py in points)\n",
    "\n",
    "\n",
    "def antinodes(points: list, width: int, height: int):\n",
    "    anti = set()\n",
    "    for a in points:\n",
    "        for b in points:\n",
    "            if a == b or a[0] != b[0]:\n",
    "                continue\n",
    "\n",
    "            dx, dy = diff(a[1], a[2], b[1], b[2])\n",
    "            x, y = diff_offset(a[1], a[2], b[1], b[2])\n",
    "\n",
    "            while within(width, height, x, y):\n",
    "                if not blocked(points, x, y):\n",
    "                    anti.add((\"#\", x, y))\n",
    "                x += dx\n",
    "                y += dy\n",
    "\n",
    "    return anti\n",
    "\n",
    "\n",
    "lines, width, height = parse_input(day_8_input)\n",
    "points = make_points(lines, width, height)\n",
    "anti = antinodes(points, width, height)\n",
    "count = len(anti) + len(points)\n",
    "count"
   ]
  },
  {
   "cell_type": "code",
   "execution_count": 141,
   "metadata": {},
   "outputs": [],
   "source": [
    "\"\"\"Day 9 input\"\"\"\n",
    "day_9_input = get_aoc_input(9).replace(\"\\n\", \"\")"
   ]
  },
  {
   "cell_type": "code",
   "execution_count": null,
   "metadata": {},
   "outputs": [
    {
     "data": {
      "text/plain": [
       "6259790630969"
      ]
     },
     "execution_count": 142,
     "metadata": {},
     "output_type": "execute_result"
    }
   ],
   "source": [
    "\"\"\"Solution to Day 9 Puzzle 1\"\"\"\n",
    "\n",
    "from typing import Optional\n",
    "\n",
    "\n",
    "def is_odd(index) -> bool:\n",
    "    return index % 2 == 1\n",
    "\n",
    "\n",
    "def spacedisk(content) -> list:\n",
    "    prefrag = []\n",
    "    count = 0\n",
    "    for i, ele in enumerate(content):\n",
    "        for _ in range(int(ele)):\n",
    "            if is_odd(i):\n",
    "                prefrag.append(None)\n",
    "            else:\n",
    "                prefrag.append(count)\n",
    "\n",
    "        if is_odd(i):\n",
    "            count += 1\n",
    "\n",
    "    return prefrag\n",
    "\n",
    "\n",
    "def defrag(content: list[Optional[int]]) -> list[int]:\n",
    "    left = 0\n",
    "    right = len(content) - 1\n",
    "\n",
    "    while left < right:\n",
    "        while left < right and content[left] is not None:\n",
    "            left += 1\n",
    "\n",
    "        while left < right and content[right] is None:\n",
    "            right -= 1\n",
    "\n",
    "        if left < right:\n",
    "            content[left] = content[right]\n",
    "            content[right] = None\n",
    "\n",
    "    return content\n",
    "\n",
    "\n",
    "def checksum(content):\n",
    "    return sum(i * x for i, x in enumerate(content))\n",
    "\n",
    "\n",
    "spaced = spacedisk(day_9_input)\n",
    "fragged = defrag(spaced)\n",
    "cleaned = filter(lambda x: x is not None, fragged)\n",
    "checksum(cleaned)"
   ]
  },
  {
   "cell_type": "code",
   "execution_count": 164,
   "metadata": {},
   "outputs": [
    {
     "data": {
      "text/plain": [
       "6289564433984"
      ]
     },
     "execution_count": 164,
     "metadata": {},
     "output_type": "execute_result"
    }
   ],
   "source": [
    "\"\"\"Solution to Day 9 Puzzle 2\"\"\"\n",
    "\n",
    "\n",
    "def grouped(content):\n",
    "    index = 0\n",
    "    groups = []\n",
    "\n",
    "    while index < len(content):\n",
    "        group = []\n",
    "        value = content[index]\n",
    "        while index < len(content) and content[index] == value:\n",
    "            group.append(value)\n",
    "            index += 1\n",
    "\n",
    "        groups.append(group)\n",
    "\n",
    "    return groups\n",
    "\n",
    "\n",
    "def defrag(content: list[Optional[int]]) -> list[int]:\n",
    "    def swap(right: list[int], left: list[int]):\n",
    "        li = 0\n",
    "        for r in right:\n",
    "            content[left[li]] = content[r]\n",
    "            content[r] = None\n",
    "            li += 1\n",
    "\n",
    "    def next_value(right) -> list[int]:\n",
    "        indexes = []\n",
    "        value = content[right]\n",
    "        while (\n",
    "            len(content) > 0 and content[right] == value and content[right] is not None\n",
    "        ):\n",
    "            indexes.append(right)\n",
    "            right -= 1\n",
    "\n",
    "        return indexes\n",
    "\n",
    "    def next_space(start_pos):\n",
    "        indexes = []\n",
    "        pos = start_pos\n",
    "        while pos < len(content) and content[pos] is None:\n",
    "            indexes.append(pos)\n",
    "            pos += 1\n",
    "        return indexes\n",
    "\n",
    "    def find_available_space(start_pos, end_pos, size):\n",
    "        while start_pos < len(content) and start_pos < end_pos:\n",
    "            indexes = next_space(start_pos)\n",
    "            if len(indexes) >= size:\n",
    "                return indexes[:size]\n",
    "            if not indexes:\n",
    "                start_pos += 1\n",
    "            else:\n",
    "                start_pos = indexes[-1] + 1\n",
    "        return None\n",
    "\n",
    "    def iterate(left, right) -> list[int]:\n",
    "        while right > left and left < len(content) and right >= 0:\n",
    "            values = next_value(right)\n",
    "            if not values:\n",
    "                right -= 1\n",
    "                continue\n",
    "\n",
    "            size_needed = len(values)\n",
    "            space_group = find_available_space(left, right, size_needed)\n",
    "\n",
    "            if space_group:\n",
    "                swap(values, space_group)\n",
    "\n",
    "            right -= size_needed if values else 1\n",
    "\n",
    "        return content\n",
    "\n",
    "    return iterate(0, len(content) - 1)\n",
    "\n",
    "\n",
    "def checksum(content):\n",
    "    acc = 0\n",
    "    for i, x in enumerate(content):\n",
    "        if x is not None:\n",
    "            acc += i * x\n",
    "    return acc\n",
    "\n",
    "\n",
    "expected_checksum = 2858\n",
    "spaced = spacedisk(day_9_input)\n",
    "fragged = defrag(spaced)\n",
    "checked = checksum(fragged)\n",
    "checked"
   ]
  }
 ],
 "metadata": {
  "kernelspec": {
   "display_name": ".venv",
   "language": "python",
   "name": "python3"
  },
  "language_info": {
   "codemirror_mode": {
    "name": "ipython",
    "version": 3
   },
   "file_extension": ".py",
   "mimetype": "text/x-python",
   "name": "python",
   "nbconvert_exporter": "python",
   "pygments_lexer": "ipython3",
   "version": "3.12.7"
  }
 },
 "nbformat": 4,
 "nbformat_minor": 2
}
